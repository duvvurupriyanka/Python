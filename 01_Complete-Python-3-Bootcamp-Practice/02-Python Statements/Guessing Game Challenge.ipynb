{
 "cells": [
  {
   "cell_type": "code",
   "execution_count": 1,
   "metadata": {},
   "outputs": [
    {
     "name": "stdout",
     "output_type": "stream",
     "text": [
      "27\n"
     ]
    }
   ],
   "source": [
    "#Guessing Game Challenge:\n",
    "\n",
    "#Generate the random number\n",
    "\n",
    "from random import randint\n",
    "random_number = randint(1,100)\n",
    "\n",
    "print(random_number)\n",
    "#import random\n",
    "#random.randint(1,100)\n"
   ]
  },
  {
   "cell_type": "code",
   "execution_count": 2,
   "metadata": {},
   "outputs": [],
   "source": [
    "#print an introduction to the game and explain the rules"
   ]
  },
  {
   "cell_type": "code",
   "execution_count": 3,
   "metadata": {},
   "outputs": [
    {
     "name": "stdout",
     "output_type": "stream",
     "text": [
      "Overwriting guessing_game.txt\n"
     ]
    }
   ],
   "source": [
    "%%writefile guessing_game.txt\n",
    "\n",
    "Guessing Game Challenge:\n",
    "\n",
    "Write a program that picks a random integer from 1 to 100, and has players guess the number. \n",
    "\n",
    "The rules are:\n",
    "\n",
    "1.If a player's guess is less than 1 or greater than 100, say \"OUT OF BOUNDS\"\n",
    "2.On a player's first turn, if their guess is\n",
    "    2.1 within 10 of the number, return \"WARM!\"\n",
    "    2.2 further than 10 away from the number, return \"COLD!\"\n",
    "3.On all subsequent turns, if a guess is\n",
    "    3.1 closer to the number than the previous guess return \"WARMER!\"\n",
    "    3.2 farther from the number than the previous guess, return \"COLDER!\"\n",
    "4.When the player's guess equals the number, tell them they've guessed correctly and how many guesses it took!\n",
    "\n",
    "You can try this from scratch, or follow the steps outlined below. A separate Solution notebook has been provided. Good luck!"
   ]
  },
  {
   "cell_type": "code",
   "execution_count": 4,
   "metadata": {},
   "outputs": [
    {
     "name": "stdout",
     "output_type": "stream",
     "text": [
      "\n",
      "Guessing Game Challenge:\n",
      "\n",
      "Write a program that picks a random integer from 1 to 100, and has players guess the number. \n",
      "\n",
      "The rules are:\n",
      "\n",
      "1.If a player's guess is less than 1 or greater than 100, say \"OUT OF BOUNDS\"\n",
      "2.On a player's first turn, if their guess is\n",
      "    2.1 within 10 of the number, return \"WARM!\"\n",
      "    2.2 further than 10 away from the number, return \"COLD!\"\n",
      "3.On all subsequent turns, if a guess is\n",
      "    3.1 closer to the number than the previous guess return \"WARMER!\"\n",
      "    3.2 farther from the number than the previous guess, return \"COLDER!\"\n",
      "4.When the player's guess equals the number, tell them they've guessed correctly and how many guesses it took!\n",
      "\n",
      "You can try this from scratch, or follow the steps outlined below. A separate Solution notebook has been provided. Good luck!\n",
      "\n"
     ]
    }
   ],
   "source": [
    "with open('guessing_game.txt', mode = 'r') as f:\n",
    "    print(f.read())"
   ]
  },
  {
   "cell_type": "code",
   "execution_count": 24,
   "metadata": {},
   "outputs": [
    {
     "name": "stdout",
     "output_type": "stream",
     "text": [
      "Please enter the guess number:10\n",
      "COLD\n",
      "Please enter the guess number:20\n",
      "WARMER\n",
      "Please enter the guess number:30\n",
      "WARMER\n",
      "Please enter the guess number:40\n",
      "COLDER\n",
      "Please enter the guess number:25\n",
      "WARMER\n",
      "Please enter the guess number:27\n",
      "your guess is correct\n",
      "You have taken 6 attempts\n",
      "[10, 20, 30, 40, 25, 27]\n"
     ]
    }
   ],
   "source": [
    "#Create a list to store guesses\n",
    "\n",
    "guesses_list = [0]\n",
    "\n",
    "while random_number != guesses_list[-1]:\n",
    "    guess = int(input('Please enter the guess number:'))\n",
    "    \n",
    "    if guess < 1 or guess > 100:\n",
    "        print(\"OUT OF BOUNDS\")\n",
    "    else:\n",
    "        guesses_list.append(guess)\n",
    "        for num in guesses_list:\n",
    "            if len(guesses_list) == 2:\n",
    "                if abs(guesses_list[1] - random_number) == 0:\n",
    "                    print(\"your guess is correct\")\n",
    "                    print(\"You have taken {} attempts\".format(len(guesses_list)-1))\n",
    "                    break\n",
    "                elif abs(guesses_list[1] - random_number) < 10:\n",
    "                    print(\"WARM\")\n",
    "                    break\n",
    "                else:\n",
    "                    print(\"COLD\")\n",
    "                    break\n",
    "            else:\n",
    "                if abs(guesses_list[-1] - random_number) == 0:\n",
    "                    print(\"your guess is correct\")\n",
    "                    print(\"You have taken {} attempts\".format(len(guesses_list)-1))\n",
    "                    break\n",
    "                elif abs(guesses_list[-1] - random_number) < 10:\n",
    "                    print(\"WARMER\")\n",
    "                    break\n",
    "                else:\n",
    "                    print(\"COLDER\")\n",
    "                    break\n",
    "                \n",
    "print(guesses_list[1:])"
   ]
  }
 ],
 "metadata": {
  "kernelspec": {
   "display_name": "Python 3",
   "language": "python",
   "name": "python3"
  },
  "language_info": {
   "codemirror_mode": {
    "name": "ipython",
    "version": 3
   },
   "file_extension": ".py",
   "mimetype": "text/x-python",
   "name": "python",
   "nbconvert_exporter": "python",
   "pygments_lexer": "ipython3",
   "version": "3.7.3"
  }
 },
 "nbformat": 4,
 "nbformat_minor": 2
}
