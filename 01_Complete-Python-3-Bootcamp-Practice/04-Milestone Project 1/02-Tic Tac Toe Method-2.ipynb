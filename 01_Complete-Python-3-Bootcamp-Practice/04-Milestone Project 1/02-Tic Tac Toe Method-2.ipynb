{
 "cells": [
  {
   "cell_type": "code",
   "execution_count": 1,
   "metadata": {},
   "outputs": [],
   "source": [
    "#Tic Tac Toe\n",
    "#Method 2"
   ]
  },
  {
   "cell_type": "code",
   "execution_count": 2,
   "metadata": {},
   "outputs": [],
   "source": [
    "from IPython.display import clear_output\n",
    "\n",
    "def display_board(board):\n",
    "    clear_output() # Remember this only works in jupyter notebook\n",
    "    print('   |   |   ')\n",
    "    print(' ' + board[1] + ' | '+ board[2] + ' | '+ board[3] + ' ')\n",
    "    print('   |   |   ')\n",
    "    print('-----------')\n",
    "    print('   |   |   ')\n",
    "    print(' ' + board[4] + ' | '+ board[5] + ' | '+ board[6] + ' ')\n",
    "    print('   |   |   ')\n",
    "    print('-----------')\n",
    "    print('   |   |   ')\n",
    "    print(' ' + board[7] + ' | '+ board[8] + ' | '+ board[9] + ' ')\n",
    "    print('   |   |   ')"
   ]
  },
  {
   "cell_type": "code",
   "execution_count": 3,
   "metadata": {},
   "outputs": [
    {
     "name": "stdout",
     "output_type": "stream",
     "text": [
      "   |   |   \n",
      " X | O | X \n",
      "   |   |   \n",
      "-----------\n",
      "   |   |   \n",
      " O | X | O \n",
      "   |   |   \n",
      "-----------\n",
      "   |   |   \n",
      " X | O | X \n",
      "   |   |   \n"
     ]
    }
   ],
   "source": [
    "test_board = ['#','X','O','X','O','X','O','X','O','X']\n",
    "display_board(test_board)"
   ]
  },
  {
   "cell_type": "code",
   "execution_count": 4,
   "metadata": {},
   "outputs": [],
   "source": [
    "def player_input():\n",
    "    marker = ''\n",
    "    set_marker = True\n",
    "    \n",
    "    while not (marker == 'X' or marker == 'O') and set_marker:\n",
    "        marker = str(input('Player1: do you want to be X or O?')).upper()\n",
    "        if marker == 'X':\n",
    "            set_marker = False\n",
    "            return ('X', 'O')\n",
    "        elif marker == 'O':\n",
    "            set_marker = False\n",
    "            return ('O', 'X')\n",
    "        else:\n",
    "            print('Wrong input')"
   ]
  },
  {
   "cell_type": "code",
   "execution_count": 5,
   "metadata": {},
   "outputs": [
    {
     "name": "stdout",
     "output_type": "stream",
     "text": [
      "Player1: do you want to be X or O?x\n"
     ]
    },
    {
     "data": {
      "text/plain": [
       "('X', 'O')"
      ]
     },
     "execution_count": 5,
     "metadata": {},
     "output_type": "execute_result"
    }
   ],
   "source": [
    "player_input()"
   ]
  },
  {
   "cell_type": "code",
   "execution_count": 6,
   "metadata": {},
   "outputs": [],
   "source": [
    "    def place_marker(board, marker, position):\n",
    "        board[position] = marker"
   ]
  },
  {
   "cell_type": "code",
   "execution_count": 7,
   "metadata": {},
   "outputs": [
    {
     "name": "stdout",
     "output_type": "stream",
     "text": [
      "   |   |   \n",
      " X | O | X \n",
      "   |   |   \n",
      "-----------\n",
      "   |   |   \n",
      " O | X | O \n",
      "   |   |   \n",
      "-----------\n",
      "   |   |   \n",
      " X | $ | X \n",
      "   |   |   \n"
     ]
    }
   ],
   "source": [
    "place_marker(test_board,'$',8)\n",
    "display_board(test_board)"
   ]
  },
  {
   "cell_type": "code",
   "execution_count": 8,
   "metadata": {},
   "outputs": [],
   "source": [
    "def win_check(board, mark):\n",
    "    \n",
    "    return ((board[1] == mark and board[5] == mark and board[9] == mark) or #diagonal\n",
    "        (board[1] == mark and board[2] == mark and board[3] == mark) or #across the top\n",
    "        (board[4] == mark and board[5] == mark and board[6] == mark) or #acrros the middle\n",
    "        (board[7] == mark and board[8] == mark and board[9] == mark) or #across the down\n",
    "        (board[3] == mark and board[5] == mark and board[7] == mark) or #diagonal\n",
    "        (board[1] == mark and board[4] == mark and board[7] == mark) or #down to the leftside\n",
    "        (board[2] == mark and board[5] == mark and board[8] == mark) or #down to the middle\n",
    "        (board[3] == mark and board[6] == mark and board[9] == mark))   #down to the rightside"
   ]
  },
  {
   "cell_type": "code",
   "execution_count": 9,
   "metadata": {},
   "outputs": [
    {
     "data": {
      "text/plain": [
       "True"
      ]
     },
     "execution_count": 9,
     "metadata": {},
     "output_type": "execute_result"
    }
   ],
   "source": [
    "win_check(test_board,'X')"
   ]
  },
  {
   "cell_type": "code",
   "execution_count": 10,
   "metadata": {},
   "outputs": [
    {
     "data": {
      "text/plain": [
       "False"
      ]
     },
     "execution_count": 10,
     "metadata": {},
     "output_type": "execute_result"
    }
   ],
   "source": [
    "win_check(test_board,'O')"
   ]
  },
  {
   "cell_type": "code",
   "execution_count": 11,
   "metadata": {},
   "outputs": [],
   "source": [
    "import random\n",
    "\n",
    "def choose_first():\n",
    "    if (random.randint(0,1) == 0):\n",
    "        return 'player 2'\n",
    "    else:\n",
    "        return 'player 1'"
   ]
  },
  {
   "cell_type": "code",
   "execution_count": 12,
   "metadata": {},
   "outputs": [],
   "source": [
    "def space_check(board, position):\n",
    "    \n",
    "    return board[position] == ' '   "
   ]
  },
  {
   "cell_type": "code",
   "execution_count": 13,
   "metadata": {},
   "outputs": [],
   "source": [
    "def full_board_check(board):\n",
    "    for n in range(1,10):\n",
    "        if space_check(board,n):\n",
    "            return False\n",
    "    return True"
   ]
  },
  {
   "cell_type": "code",
   "execution_count": null,
   "metadata": {},
   "outputs": [],
   "source": [
    "def player_choice(board):\n",
    "    position = 0\n",
    "    \n",
    "    while position not in range(1,10) or not space_check(board,position):\n",
    "        position = int(input(f'{turn}: choose your next position: (1-9)'))\n",
    "    \n",
    "    return position"
   ]
  },
  {
   "cell_type": "code",
   "execution_count": 15,
   "metadata": {},
   "outputs": [],
   "source": [
    "def replay():\n",
    "    \n",
    "    return input('Do you want to play again? Enter Yes or No: ').lower().startswith('yes')"
   ]
  },
  {
   "cell_type": "code",
   "execution_count": 21,
   "metadata": {},
   "outputs": [
    {
     "name": "stdout",
     "output_type": "stream",
     "text": [
      "   |   |   \n",
      " X | X | O \n",
      "   |   |   \n",
      "-----------\n",
      "   |   |   \n",
      " O | X | X \n",
      "   |   |   \n",
      "-----------\n",
      "   |   |   \n",
      " X | O | O \n",
      "   |   |   \n",
      "game is draw\n",
      "Do you want to play again? Enter Yes or No: no\n"
     ]
    }
   ],
   "source": [
    "print('Welcome to Tic Tac Toe!')\n",
    "\n",
    "while True:\n",
    "    #Reset the board\n",
    "    theboard =[' ']*10\n",
    "    player1_marker,player2_marker = player_input()\n",
    "    turn = choose_first()\n",
    "    print(turn +' will go first')\n",
    "    \n",
    "    play_game = input('Are you ready to play? Enter yes or no')\n",
    "    \n",
    "    if play_game.lower() == 'yes':\n",
    "        game_on = True\n",
    "    else:\n",
    "        game_on = False\n",
    "    \n",
    "    while game_on:\n",
    "        if turn == 'player 1':\n",
    "            #Player 1 turn\n",
    "            display_board(theboard)\n",
    "            position = player_choice(theboard)\n",
    "            place_marker(theboard, player1_marker, position)\n",
    "            \n",
    "            if win_check(theboard, player1_marker):\n",
    "                display_board(theboard)\n",
    "                print('Congratulations! You have won the game!')\n",
    "                game_on = False\n",
    "            else:\n",
    "                if full_board_check(theboard):\n",
    "                    display_board(theboard)\n",
    "                    print('game is draw')\n",
    "                    break\n",
    "                else:\n",
    "                      turn = 'player 2'\n",
    "        else:\n",
    "            #player 2 turn\n",
    "            display_board(theboard)\n",
    "            position = player_choice(theboard)\n",
    "            place_marker(theboard, player2_marker, position)\n",
    "            \n",
    "            if win_check(theboard, player2_marker):\n",
    "                display_board(theboard)\n",
    "                print('Congratulations! You have won the game!')\n",
    "                game_on = False\n",
    "            else:\n",
    "                if full_board_check(theboard):\n",
    "                    display_board(theboard)\n",
    "                    print('game is draw')\n",
    "                    break\n",
    "                else:\n",
    "                    display_board(theboard)\n",
    "                    turn = 'player 1'\n",
    "                        \n",
    "    if not replay():\n",
    "        break\n",
    "            "
   ]
  },
  {
   "cell_type": "code",
   "execution_count": null,
   "metadata": {},
   "outputs": [],
   "source": []
  },
  {
   "cell_type": "code",
   "execution_count": null,
   "metadata": {},
   "outputs": [],
   "source": []
  }
 ],
 "metadata": {
  "kernelspec": {
   "display_name": "Python 3",
   "language": "python",
   "name": "python3"
  },
  "language_info": {
   "codemirror_mode": {
    "name": "ipython",
    "version": 3
   },
   "file_extension": ".py",
   "mimetype": "text/x-python",
   "name": "python",
   "nbconvert_exporter": "python",
   "pygments_lexer": "ipython3",
   "version": "3.7.3"
  }
 },
 "nbformat": 4,
 "nbformat_minor": 2
}
